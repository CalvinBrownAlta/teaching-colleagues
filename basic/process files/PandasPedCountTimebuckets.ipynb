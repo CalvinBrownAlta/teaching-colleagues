{
 "cells": [
  {
   "cell_type": "code",
   "execution_count": 66,
   "metadata": {},
   "outputs": [],
   "source": [
    "import pandas as pd\n",
    "import os\n"
   ]
  },
  {
   "cell_type": "code",
   "execution_count": 67,
   "metadata": {},
   "outputs": [],
   "source": [
    "\n",
    "data_folder = '/Users/calvindechicago/PycharmProjects/AltaWork/teaching-colleagues/Counts/Counts/Count Reports 6-17-19'\n",
    "test_file = os.path.join(data_folder, \"1 LICK MILL BLVD & TASMAN DR.xls\")"
   ]
  },
  {
   "cell_type": "code",
   "execution_count": 68,
   "metadata": {},
   "outputs": [],
   "source": [
    "df = pd.read_excel(test_file, sheet_name=\"Vehicles\", header=9)"
   ]
  },
  {
   "cell_type": "code",
   "execution_count": 69,
   "metadata": {},
   "outputs": [],
   "source": [
    "# Make a variable that will hold the total across all \"Peds\" columns\n",
    "running_total = 0\n",
    "\n",
    "# Get a list of all \"Peds\" column names\n",
    "ped_cols = [x for x in df.columns if \"Peds\" in x]"
   ]
  },
  {
   "cell_type": "code",
   "execution_count": 70,
   "metadata": {},
   "outputs": [
    {
     "name": "stdout",
     "output_type": "stream",
     "text": [
      "Peds\n",
      "Peds.1\n",
      "Peds.2\n",
      "Peds.3\n",
      "542\n"
     ]
    }
   ],
   "source": [
    "for col in ped_cols:\n",
    "    col_total = df[col].sum()\n",
    "    \n",
    "    print(col)\n",
    "\n",
    "    running_total += col_total\n",
    "        \n",
    "print(running_total)"
   ]
  },
  {
   "cell_type": "code",
   "execution_count": 71,
   "metadata": {},
   "outputs": [],
   "source": [
    "df.columns = df.columns.str.lower().str.replace(' ','_')\n"
   ]
  },
  {
   "cell_type": "code",
   "execution_count": 72,
   "metadata": {},
   "outputs": [
    {
     "name": "stdout",
     "output_type": "stream",
     "text": [
      "Index(['start_time', 'right', 'thru', 'left', 'peds', 'right.1', 'thru.1',\n",
      "       'left.1', 'peds.1', 'right.2', 'thru.2', 'left.2', 'peds.2', 'right.3',\n",
      "       'thru.3', 'left.3', 'peds.3'],\n",
      "      dtype='object')\n"
     ]
    }
   ],
   "source": [
    "print(df.columns)"
   ]
  },
  {
   "cell_type": "code",
   "execution_count": 73,
   "metadata": {},
   "outputs": [
    {
     "name": "stdout",
     "output_type": "stream",
     "text": [
      "0     05:00 AM\n",
      "1     05:15 AM\n",
      "2     05:30 AM\n",
      "3     05:45 AM\n",
      "4     06:00 AM\n",
      "        ...   \n",
      "63    08:45 PM\n",
      "64    09:00 PM\n",
      "65    09:15 PM\n",
      "66    09:30 PM\n",
      "67    09:45 PM\n",
      "Name: start_time, Length: 68, dtype: object\n"
     ]
    }
   ],
   "source": [
    "print(df['start_time'])"
   ]
  },
  {
   "cell_type": "code",
   "execution_count": 74,
   "metadata": {},
   "outputs": [],
   "source": [
    "df['start_time'] = pd.to_datetime(df.start_time)"
   ]
  },
  {
   "cell_type": "code",
   "execution_count": 75,
   "metadata": {},
   "outputs": [],
   "source": [
    "#Set Beginning and End for 4 different time buckets\n",
    "tba1 = pd.to_datetime('05:00')\n",
    "tba2 = pd.to_datetime('09:30')\n",
    "#==================\n",
    "tbb1 = pd.to_datetime('09:31')\n",
    "tbb2 = pd.to_datetime('13:00')\n",
    "#==================\n",
    "tbc1 = pd.to_datetime('13:01')\n",
    "tbc2 = pd.to_datetime('17:00')\n",
    "#==================\n",
    "tbd1 = pd.to_datetime('17:01')\n",
    "tbd2 = pd.to_datetime('23:59')"
   ]
  },
  {
   "cell_type": "code",
   "execution_count": 76,
   "metadata": {},
   "outputs": [
    {
     "data": {
      "text/plain": [
       "5"
      ]
     },
     "execution_count": 76,
     "metadata": {},
     "output_type": "execute_result"
    }
   ],
   "source": [
    "tba1.hour"
   ]
  },
  {
   "cell_type": "code",
   "execution_count": 93,
   "metadata": {},
   "outputs": [],
   "source": [
    "\n",
    "timebucket1 = df.loc[(df.start_time >= tba1) & (df.start_time <= tba2)]\n",
    "timebucket2 = df.loc[(df.start_time >= tbb1) & (df.start_time <= tbb2)]\n",
    "timebucket3 = df.loc[(df.start_time >= tbc1) & (df.start_time <= tbc2)]\n",
    "timebucket4 = df.loc[(df.start_time >= tbd1) & (df.start_time <= tbd2)]\n",
    "alltb = (timebucket1,timebucket2, timebucket3, timebucket4)"
   ]
  },
  {
   "cell_type": "code",
   "execution_count": 89,
   "metadata": {},
   "outputs": [
    {
     "name": "stdout",
     "output_type": "stream",
     "text": [
      "<class 'pandas.core.series.Series'>\n",
      "0      True\n",
      "1      True\n",
      "2      True\n",
      "3      True\n",
      "4      True\n",
      "      ...  \n",
      "63    False\n",
      "64    False\n",
      "65    False\n",
      "66    False\n",
      "67    False\n",
      "Name: start_time, Length: 68, dtype: bool\n",
      "==================================================\n",
      "<class 'pandas.core.frame.DataFrame'>\n",
      "            start_time  right  thru  left  peds  right.1  thru.1  left.1  \\\n",
      "19 2019-09-11 09:45:00      1     0     0     3        4     184      27   \n",
      "20 2019-09-11 10:00:00      1     1     2     5        3     171      26   \n",
      "21 2019-09-11 10:15:00      0     1     0     2        4     152      33   \n",
      "22 2019-09-11 10:30:00      1     0     0     2        3      94      37   \n",
      "23 2019-09-11 10:45:00      1     0     2     2        0      63      23   \n",
      "24 2019-09-11 11:00:00      0     1     1     0        2      60      24   \n",
      "25 2019-09-11 11:15:00      0     0     1     2        2      53      26   \n",
      "26 2019-09-11 11:30:00      0     3     1     1        2      81      39   \n",
      "27 2019-09-11 11:45:00      1     1     0     3        0      79      31   \n",
      "28 2019-09-11 12:00:00      2     3     1     8        2     103      38   \n",
      "29 2019-09-11 12:15:00      1     3     5     6        3      76      38   \n",
      "30 2019-09-11 12:30:00      0     0     4     2        1      82      38   \n",
      "31 2019-09-11 12:45:00      0     3     7     3        3      68      36   \n",
      "32 2019-09-11 13:00:00      3     3     3     4        8      78      45   \n",
      "\n",
      "    peds.1  right.2  thru.2  left.2  peds.2  right.3  thru.3  left.3  peds.3  \n",
      "19       0       80       5      72       2        8      79       4       2  \n",
      "20       1       54       6      72       4       14      43       2       3  \n",
      "21       0       51       7      71       1       26      63       3       1  \n",
      "22       0       41       3      35       2       42      62       5       0  \n",
      "23       1       34       3      31       1       41      50       2       2  \n",
      "24       0       35       4       3       1       16      52       1       1  \n",
      "25       0       36       3      17       2       22      52       0       0  \n",
      "26       0       35       1      28       1       21      65       2       0  \n",
      "27       2       38       0      17       1       24      70       4       3  \n",
      "28       2       45       2      19       1       24      58       6       2  \n",
      "29       0       36       0      19       2       32      86       8       1  \n",
      "30       0       29       2      15       2       22      83       3       3  \n",
      "31       1       69       3      18       0       24      87       4       1  \n",
      "32       1       45       0      23       2       27      89       3       2  \n"
     ]
    }
   ],
   "source": [
    "#First example creates a series. Second example creates a dataframe \n",
    "timebucket1 = (df.start_time >= tba1) & (df.start_time <= tba2)\n",
    "timebucket2 = df.loc[(df.start_time >= tbb1) & (df.start_time <= tbb2)]\n",
    "print(type(timebucket1))\n",
    "print(timebucket1)\n",
    "print(\"==================================================\")\n",
    "print(type(timebucket2))\n",
    "print(timebucket2)\n"
   ]
  },
  {
   "cell_type": "code",
   "execution_count": 94,
   "metadata": {},
   "outputs": [
    {
     "ename": "AttributeError",
     "evalue": "'str' object has no attribute 'columns'",
     "output_type": "error",
     "traceback": [
      "\u001b[0;31m---------------------------------------------------------------------------\u001b[0m",
      "\u001b[0;31mAttributeError\u001b[0m                            Traceback (most recent call last)",
      "\u001b[0;32m<ipython-input-94-4cf7f5d3ebec>\u001b[0m in \u001b[0;36m<module>\u001b[0;34m\u001b[0m\n\u001b[1;32m      2\u001b[0m \u001b[0;34m\u001b[0m\u001b[0m\n\u001b[1;32m      3\u001b[0m \u001b[0;32mfor\u001b[0m \u001b[0mx\u001b[0m \u001b[0;32min\u001b[0m \u001b[0malltb\u001b[0m\u001b[0;34m:\u001b[0m\u001b[0;34m\u001b[0m\u001b[0;34m\u001b[0m\u001b[0m\n\u001b[0;32m----> 4\u001b[0;31m     \u001b[0;32mfor\u001b[0m \u001b[0my\u001b[0m \u001b[0;32min\u001b[0m \u001b[0;34mf'{x}'\u001b[0m\u001b[0;34m.\u001b[0m\u001b[0mcolumns\u001b[0m\u001b[0;34m:\u001b[0m\u001b[0;34m\u001b[0m\u001b[0;34m\u001b[0m\u001b[0m\n\u001b[0m\u001b[1;32m      5\u001b[0m          \u001b[0;32mif\u001b[0m \u001b[0;34m\"Peds\"\u001b[0m \u001b[0;32min\u001b[0m \u001b[0my\u001b[0m\u001b[0;34m:\u001b[0m\u001b[0;34m\u001b[0m\u001b[0;34m\u001b[0m\u001b[0m\n\u001b[1;32m      6\u001b[0m             \u001b[0mped_cols\u001b[0m\u001b[0;34m.\u001b[0m\u001b[0mappend\u001b[0m\u001b[0;34m(\u001b[0m\u001b[0my\u001b[0m\u001b[0;34m)\u001b[0m\u001b[0;34m\u001b[0m\u001b[0;34m\u001b[0m\u001b[0m\n",
      "\u001b[0;31mAttributeError\u001b[0m: 'str' object has no attribute 'columns'"
     ]
    }
   ],
   "source": [
    "ped_cols = []\n",
    "\n",
    "for x in alltb:\n",
    "    for y in f'{x}'.columns:\n",
    "         if \"Peds\" in y:\n",
    "            ped_cols.append(y)\n",
    "        \n",
    "        \n",
    "       \n",
    "         \n",
    "    "
   ]
  },
  {
   "cell_type": "code",
   "execution_count": 93,
   "metadata": {},
   "outputs": [
    {
     "name": "stdout",
     "output_type": "stream",
     "text": [
      "            start_time  right  thru  left  peds  right.1  thru.1  left.1  \\\n",
      "19 2019-09-10 09:45:00      1     0     0     3        4     184      27   \n",
      "20 2019-09-10 10:00:00      1     1     2     5        3     171      26   \n",
      "21 2019-09-10 10:15:00      0     1     0     2        4     152      33   \n",
      "22 2019-09-10 10:30:00      1     0     0     2        3      94      37   \n",
      "23 2019-09-10 10:45:00      1     0     2     2        0      63      23   \n",
      "24 2019-09-10 11:00:00      0     1     1     0        2      60      24   \n",
      "25 2019-09-10 11:15:00      0     0     1     2        2      53      26   \n",
      "26 2019-09-10 11:30:00      0     3     1     1        2      81      39   \n",
      "27 2019-09-10 11:45:00      1     1     0     3        0      79      31   \n",
      "28 2019-09-10 12:00:00      2     3     1     8        2     103      38   \n",
      "29 2019-09-10 12:15:00      1     3     5     6        3      76      38   \n",
      "30 2019-09-10 12:30:00      0     0     4     2        1      82      38   \n",
      "31 2019-09-10 12:45:00      0     3     7     3        3      68      36   \n",
      "32 2019-09-10 13:00:00      3     3     3     4        8      78      45   \n",
      "33 2019-09-10 13:15:00      3     0     3     7        4      77      31   \n",
      "34 2019-09-10 13:30:00      1     2     3     2        7      50      36   \n",
      "35 2019-09-10 13:45:00      1     0     2     2        1      71      28   \n",
      "36 2019-09-10 14:00:00      1     2     2     0        3      50      35   \n",
      "37 2019-09-10 14:15:00      1     1     2     2        5      54      46   \n",
      "38 2019-09-10 14:30:00      2     3     2     3        0      53      39   \n",
      "39 2019-09-10 14:45:00      2     3     1     6        4      55      43   \n",
      "40 2019-09-10 15:00:00      1     1     4     4        2      62      38   \n",
      "41 2019-09-10 15:15:00      0     1     0     2        0      68      34   \n",
      "42 2019-09-10 15:30:00      2     3     4     0        0      60      35   \n",
      "43 2019-09-10 15:45:00      0     2     1     1        1      57      37   \n",
      "44 2019-09-10 16:00:00      3     7     6     1        2      74      32   \n",
      "45 2019-09-10 16:15:00      4     3     4     7        2     109      45   \n",
      "46 2019-09-10 16:30:00      2     3     2     1        2     109      30   \n",
      "47 2019-09-10 16:45:00      2     4     5     4        3     124      66   \n",
      "48 2019-09-10 17:00:00      4     6     6     3        2     133      78   \n",
      "49 2019-09-10 17:15:00      1     5     2     5        2     143      67   \n",
      "50 2019-09-10 17:30:00      3     3     4     5        2     161      90   \n",
      "51 2019-09-10 17:45:00      0     4     5     4        0     119      65   \n",
      "52 2019-09-10 18:00:00      2     4     6     4        2     137      68   \n",
      "53 2019-09-10 18:15:00      0     4     4     5        0      99      67   \n",
      "54 2019-09-10 18:30:00      1     6     0     6        1     102      69   \n",
      "55 2019-09-10 18:45:00      0     5     4     3        0      83      55   \n",
      "56 2019-09-10 19:00:00      2     2     2     4        1      73      45   \n",
      "57 2019-09-10 19:15:00      2     1     4     5        1      59      45   \n",
      "58 2019-09-10 19:30:00      3     1     2     0        1      47      36   \n",
      "59 2019-09-10 19:45:00      0     3     2     6        2      45      57   \n",
      "60 2019-09-10 20:00:00      2     1     5     3        1      29      47   \n",
      "61 2019-09-10 20:15:00      2     3     2     3        0      48      40   \n",
      "62 2019-09-10 20:30:00      0     1     3     4        0      42      42   \n",
      "63 2019-09-10 20:45:00      0     0     1     3        0      51      26   \n",
      "64 2019-09-10 21:00:00      0     1     2     0        0      44      27   \n",
      "65 2019-09-10 21:15:00      0     1     0     2        1      42      23   \n",
      "66 2019-09-10 21:30:00      0     0     0     2        0      33      26   \n",
      "67 2019-09-10 21:45:00      1     0     0     1        0      25      27   \n",
      "\n",
      "    peds.1  right.2  thru.2  left.2  peds.2  right.3  thru.3  left.3  peds.3  \n",
      "19       0       80       5      72       2        8      79       4       2  \n",
      "20       1       54       6      72       4       14      43       2       3  \n",
      "21       0       51       7      71       1       26      63       3       1  \n",
      "22       0       41       3      35       2       42      62       5       0  \n",
      "23       1       34       3      31       1       41      50       2       2  \n",
      "24       0       35       4       3       1       16      52       1       1  \n",
      "25       0       36       3      17       2       22      52       0       0  \n",
      "26       0       35       1      28       1       21      65       2       0  \n",
      "27       2       38       0      17       1       24      70       4       3  \n",
      "28       2       45       2      19       1       24      58       6       2  \n",
      "29       0       36       0      19       2       32      86       8       1  \n",
      "30       0       29       2      15       2       22      83       3       3  \n",
      "31       1       69       3      18       0       24      87       4       1  \n",
      "32       1       45       0      23       2       27      89       3       2  \n",
      "33       2       45       0      12       1       27     100       4       2  \n",
      "34       0       44       1      16       0       36      82       1       4  \n",
      "35       0       50       1      14       3       23      78       3       2  \n",
      "36       1       38       2      10       2       27      80       3       0  \n",
      "37       0       36       2      20       1       21     119       1       1  \n",
      "38       0       55       2      21       2       48     106       3       0  \n",
      "39       5       62       0       9       1       62     123       5       8  \n",
      "40       0       32       1      13       0       51     119       1       2  \n",
      "41       1       35       1      16       3       52     151       3       1  \n",
      "42       0       35       1      20       3      102     166       5       2  \n",
      "43       0       53       0       8       1       74     172       2       2  \n",
      "44       0       30       0      14       2      106     214       2       0  \n",
      "45       2       46       2      11       2      132     256       1       3  \n",
      "46       0       41       0      11       4       94     275       1       3  \n",
      "47       0       60       0      14       0      109     380       4       0  \n",
      "48       0       51       0      10       3       91     261       2       2  \n",
      "49       0       63       2      26       3      130     317       3       3  \n",
      "50       0       70       0      18       6      124     333       5       3  \n",
      "51       2       77       0      20       4      106     335       2       0  \n",
      "52       0       65       0      19       3      116     359       3       1  \n",
      "53       3       69       0      15       1      113     303       1       2  \n",
      "54       1       46       2      11       2       87     269       2       2  \n",
      "55       0       63       0      10       2       64     226       0       3  \n",
      "56       0       44       0       7       6       57     153       1       3  \n",
      "57       1       51       0      18       0       55     119       0       2  \n",
      "58       0       43       0       8       1       47     115       3       2  \n",
      "59       0       56       0      14       4       35     102       5       3  \n",
      "60       0       48       1      12       0       30      59       2       2  \n",
      "61       0       59       0       6       9       28      67       1       3  \n",
      "62       0       49       0       8       2       25      82       2       2  \n",
      "63       0       29       0       9       5       24      74       0       0  \n",
      "64       0       41       1       7       0       19      74       2       0  \n",
      "65       0       39       0       4       1       19      53       0       2  \n",
      "66       0       35       0       5       4       22      45       2       1  \n",
      "67       0       20       0       5       0       13      38       1       1  \n"
     ]
    }
   ],
   "source": [
    "timebucket2 = df.loc[(df.start_time >= tbb1)]\n",
    "type(timebucket2)\n",
    "print(timebucket2)\n"
   ]
  },
  {
   "cell_type": "code",
   "execution_count": 31,
   "metadata": {},
   "outputs": [
    {
     "data": {
      "text/plain": [
       "['peds', 'peds.1', 'peds.2', 'peds.3']"
      ]
     },
     "execution_count": 31,
     "metadata": {},
     "output_type": "execute_result"
    }
   ],
   "source": [
    "ped_cols = [x for x in timebucket1.columns if \"peds\" in x]\n",
    "ped_cols\n",
    "    \n",
    "\n"
   ]
  },
  {
   "cell_type": "code",
   "execution_count": 17,
   "metadata": {},
   "outputs": [
    {
     "name": "stdout",
     "output_type": "stream",
     "text": [
      "0      True\n",
      "1      True\n",
      "2      True\n",
      "3      True\n",
      "4      True\n",
      "      ...  \n",
      "63    False\n",
      "64    False\n",
      "65    False\n",
      "66    False\n",
      "67    False\n",
      "Name: start_time, Length: 68, dtype: bool\n"
     ]
    }
   ],
   "source": [
    "type(timebucket1)\n",
    "print(timebucket1)"
   ]
  },
  {
   "cell_type": "code",
   "execution_count": 14,
   "metadata": {},
   "outputs": [
    {
     "data": {
      "text/plain": [
       "Index(['start_time', 'right', 'thru', 'left', 'peds', 'right.1', 'thru.1',\n",
       "       'left.1', 'peds.1', 'right.2', 'thru.2', 'left.2', 'peds.2', 'right.3',\n",
       "       'thru.3', 'left.3', 'peds.3'],\n",
       "      dtype='object')"
      ]
     },
     "execution_count": 14,
     "metadata": {},
     "output_type": "execute_result"
    }
   ],
   "source": [
    "timebucket2.columns\n"
   ]
  },
  {
   "cell_type": "code",
   "execution_count": 17,
   "metadata": {},
   "outputs": [
    {
     "name": "stdout",
     "output_type": "stream",
     "text": [
      "542\n"
     ]
    }
   ],
   "source": [
    "for col in ped_cols:\n",
    "    col_total = df[col].sum()\n",
    "    \n",
    "    print(col)\n",
    "\n",
    "    running_total += col_total\n",
    "        \n",
    "print(running_total)"
   ]
  },
  {
   "cell_type": "code",
   "execution_count": 32,
   "metadata": {},
   "outputs": [
    {
     "name": "stdout",
     "output_type": "stream",
     "text": [
      "peds\n",
      "peds.1\n",
      "peds.2\n",
      "peds.3\n",
      "172\n"
     ]
    }
   ],
   "source": [
    "for col in ped_cols:\n",
    "    col_total = timebucket1[col].sum()\n",
    "    \n",
    "    print(col)\n",
    "\n",
    "    running_total += col_total\n",
    "        \n",
    "print(running_total)"
   ]
  },
  {
   "cell_type": "code",
   "execution_count": 19,
   "metadata": {},
   "outputs": [],
   "source": [
    "running_total = 0"
   ]
  },
  {
   "cell_type": "code",
   "execution_count": null,
   "metadata": {},
   "outputs": [],
   "source": []
  }
 ],
 "metadata": {
  "kernelspec": {
   "display_name": "Python 3",
   "language": "python",
   "name": "python3"
  },
  "language_info": {
   "codemirror_mode": {
    "name": "ipython",
    "version": 3
   },
   "file_extension": ".py",
   "mimetype": "text/x-python",
   "name": "python",
   "nbconvert_exporter": "python",
   "pygments_lexer": "ipython3",
   "version": "3.7.4"
  }
 },
 "nbformat": 4,
 "nbformat_minor": 2
}
